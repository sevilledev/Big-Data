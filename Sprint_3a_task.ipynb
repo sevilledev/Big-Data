{
 "cells": [
  {
   "cell_type": "markdown",
   "metadata": {},
   "source": [
    "# Sprint 3a Solutions"
   ]
  },
  {
   "cell_type": "markdown",
   "metadata": {},
   "source": [
    "### Task 1: x dəyişəni verilmişdir. Əgər x > 0 olarsa \"müsbət\", x < 0 olarsa \"mənfi\", bərabərdirsə \"sıfır\" çap etsin."
   ]
  },
  {
   "cell_type": "code",
   "execution_count": 1,
   "metadata": {},
   "outputs": [
    {
     "name": "stdout",
     "output_type": "stream",
     "text": [
      "müsbət\n"
     ]
    }
   ],
   "source": [
    "x = 10\n",
    "if x > 0:\n",
    "    print(\"müsbət\")\n",
    "elif x < 0:\n",
    "    print(\"mənfi\")\n",
    "else:\n",
    "    print(\"sıfır\")"
   ]
  },
  {
   "cell_type": "markdown",
   "metadata": {},
   "source": [
    "### Task 2: n rəqəmi cütdürsə \"cüt\", təkdirsə \"tək\" çap etsin."
   ]
  },
  {
   "cell_type": "code",
   "execution_count": 2,
   "metadata": {},
   "outputs": [
    {
     "name": "stdout",
     "output_type": "stream",
     "text": [
      "cüt\n"
     ]
    }
   ],
   "source": [
    "n = 4\n",
    "if n % 2 == 0:\n",
    "    print(\"cüt\")\n",
    "else:\n",
    "    print(\"tək\")"
   ]
  },
  {
   "cell_type": "markdown",
   "metadata": {},
   "source": [
    "### Task 3: a, b, c rəqəmləri verilmişdir. Ən böyük rəqəmi çap etsin."
   ]
  },
  {
   "cell_type": "code",
   "execution_count": 3,
   "metadata": {},
   "outputs": [
    {
     "name": "stdout",
     "output_type": "stream",
     "text": [
      "Ən böyük rəqəm: 30\n"
     ]
    }
   ],
   "source": [
    "a = 10\n",
    "b = 30\n",
    "c = 20\n",
    "\n",
    "max_num = max(a, b, c)\n",
    "print(f\"Ən böyük rəqəm: {max_num}\")"
   ]
  },
  {
   "cell_type": "markdown",
   "metadata": {},
   "source": [
    "### Task 4: day dəyişəni 1-7 arası rəqəmdir. Müvafiq həftə gününü (1 = \"Bazar ertəsi\", ..., 7 = \"Bazar\") çap etsin, əks halda \"Yanlış gün\" yazsın."
   ]
  },
  {
   "cell_type": "code",
   "execution_count": 4,
   "metadata": {},
   "outputs": [
    {
     "name": "stdout",
     "output_type": "stream",
     "text": [
      "Bazar ertəsi\n"
     ]
    }
   ],
   "source": [
    "day = 1\n",
    "if day == 1:\n",
    "    print(\"Bazar ertəsi\")\n",
    "elif day == 2:\n",
    "    print(\"Çərşənbə axşamı\")\n",
    "elif day == 3:\n",
    "    print(\"Çərşənbə\")\n",
    "elif day == 4:\n",
    "    print(\"Cümə axşamı\")\n",
    "elif day == 5:\n",
    "    print(\"Cümə\")\n",
    "elif day == 6:\n",
    "    print(\"Şənbə\")\n",
    "elif day == 7:\n",
    "    print(\"Bazar\")\n",
    "else:\n",
    "    print(\"Yanlış gün\")"
   ]
  },
  {
   "cell_type": "markdown",
   "metadata": {},
   "source": [
    "### Task 5: temp dəyişəni temperaturdur. Əgər temp < 0 olarsa \"soyuq\", 0-20 arası olarsa \"normal\", 20-dən böyükdürsə \"isti\" çap etsin."
   ]
  },
  {
   "cell_type": "code",
   "execution_count": 5,
   "metadata": {},
   "outputs": [
    {
     "name": "stdout",
     "output_type": "stream",
     "text": [
      "normal\n"
     ]
    }
   ],
   "source": [
    "temp = 15\n",
    "if temp < 0:\n",
    "    print(\"soyuq\")\n",
    "elif temp <= 20:\n",
    "    print(\"normal\")\n",
    "else:\n",
    "    print(\"isti\")"
   ]
  },
  {
   "cell_type": "markdown",
   "metadata": {},
   "source": [
    "### Task 6: password adlı string verilmişdir. Əgər uzunluğu 8-dən kiçikdirsə \"qısa\", 8-12 arasıdırsa \"orta\", 12-dən böyükdürsə \"uzun\" çap etsin."
   ]
  },
  {
   "cell_type": "code",
   "execution_count": 6,
   "metadata": {},
   "outputs": [
    {
     "name": "stdout",
     "output_type": "stream",
     "text": [
      "orta\n"
     ]
    }
   ],
   "source": [
    "password = \"abc123xyz\"\n",
    "if len(password) < 8:\n",
    "    print(\"qısa\")\n",
    "elif len(password) <= 12:\n",
    "    print(\"orta\")\n",
    "else:\n",
    "    print(\"uzun\")"
   ]
  },
  {
   "cell_type": "markdown",
   "metadata": {},
   "source": [
    "### Task 7: x rəqəmi həm 3-ə, həm də 5-ə bölünürsə \"3 və 5\", yalnız 3-ə bölünürsə \"3\", yalnız 5-ə bölünürsə \"5\", heç birinə bölünmürsə \"heç biri\" çap etsin."
   ]
  },
  {
   "cell_type": "code",
   "execution_count": 7,
   "metadata": {},
   "outputs": [
    {
     "name": "stdout",
     "output_type": "stream",
     "text": [
      "3 və 5\n"
     ]
    }
   ],
   "source": [
    "x = 15\n",
    "if x % 3 == 0 and x % 5 == 0:\n",
    "    print(\"3 və 5\")\n",
    "elif x % 3 == 0:\n",
    "    print(\"3\")\n",
    "elif x % 5 == 0:\n",
    "    print(\"5\")\n",
    "else:\n",
    "    print(\"heç biri\")"
   ]
  },
  {
   "cell_type": "markdown",
   "metadata": {},
   "source": [
    "### Task 8: 0-dan 20-yə qədər cüt rəqəmləri çap etsin."
   ]
  },
  {
   "cell_type": "code",
   "execution_count": 8,
   "metadata": {},
   "outputs": [
    {
     "name": "stdout",
     "output_type": "stream",
     "text": [
      "0\n",
      "2\n",
      "4\n",
      "6\n",
      "8\n",
      "10\n",
      "12\n",
      "14\n",
      "16\n",
      "18\n",
      "20\n"
     ]
    }
   ],
   "source": [
    "for i in range(0, 21, 2):\n",
    "    print(i)"
   ]
  },
  {
   "cell_type": "markdown",
   "metadata": {},
   "source": [
    "### Task 9: \"Bağda ərik var idi …\" stringinin hər elementini for ilə ayrı-ayrılıqda çap edin."
   ]
  },
  {
   "cell_type": "code",
   "execution_count": 9,
   "metadata": {},
   "outputs": [
    {
     "name": "stdout",
     "output_type": "stream",
     "text": [
      "B\n",
      "a\n",
      "ğ\n",
      "d\n",
      "a\n",
      " \n",
      "ə\n",
      "r\n",
      "i\n",
      "k\n",
      " \n",
      "v\n",
      "a\n",
      "r\n",
      " \n",
      "i\n",
      "d\n",
      "i\n",
      " \n",
      "…\n"
     ]
    }
   ],
   "source": [
    "text = \"Bağda ərik var idi …\"\n",
    "for char in text:\n",
    "    print(char)"
   ]
  },
  {
   "cell_type": "markdown",
   "metadata": {},
   "source": [
    "### Task 10: 1-dən 10-a qədər rəqəmləri çap edin, amma 3 xaric."
   ]
  },
  {
   "cell_type": "code",
   "execution_count": 10,
   "metadata": {},
   "outputs": [
    {
     "name": "stdout",
     "output_type": "stream",
     "text": [
      "1\n",
      "2\n",
      "4\n",
      "5\n",
      "6\n",
      "7\n",
      "8\n",
      "9\n",
      "10\n"
     ]
    }
   ],
   "source": [
    "for i in range(1, 11):\n",
    "    if i != 3:\n",
    "        print(i)"
   ]
  },
  {
   "cell_type": "markdown",
   "metadata": {},
   "source": [
    "### Task 11: 1-dən başlayaraq ilk 5-ə bölünən rəqəmi tapın və while ilə çap edin (break istifadə edin)."
   ]
  },
  {
   "cell_type": "code",
   "execution_count": 11,
   "metadata": {},
   "outputs": [
    {
     "name": "stdout",
     "output_type": "stream",
     "text": [
      "İlk 5-ə bölünən rəqəm: 5\n"
     ]
    }
   ],
   "source": [
    "num = 1\n",
    "while True:\n",
    "    if num % 5 == 0:\n",
    "        print(f\"İlk 5-ə bölünən rəqəm: {num}\")\n",
    "        break\n",
    "    num += 1"
   ]
  },
  {
   "cell_type": "markdown",
   "metadata": {},
   "source": [
    "### Task 12: (1, 3, 5, 7, 9) listində/vectorunda 5-i tapın və indeksini çap edin (break istifadə edin)."
   ]
  },
  {
   "cell_type": "code",
   "execution_count": 12,
   "metadata": {},
   "outputs": [
    {
     "name": "stdout",
     "output_type": "stream",
     "text": [
      "5 elementinin indeksi: 2\n"
     ]
    }
   ],
   "source": [
    "numbers = [1, 3, 5, 7, 9]\n",
    "for i in range(len(numbers)):\n",
    "    if numbers[i] == 5:\n",
    "        print(f\"5 elementinin indeksi: {i}\")\n",
    "        break"
   ]
  }
 ],
 "metadata": {
  "kernelspec": {
   "display_name": "Python 3",
   "language": "python",
   "name": "python3"
  },
  "language_info": {
   "codemirror_mode": {
    "name": "ipython",
    "version": 3
   },
   "file_extension": ".py",
   "mimetype": "text/x-python",
   "name": "python",
   "nbconvert_exporter": "python",
   "pygments_lexer": "ipython3",
   "version": "3.9.6"
  }
 },
 "nbformat": 4,
 "nbformat_minor": 4
}