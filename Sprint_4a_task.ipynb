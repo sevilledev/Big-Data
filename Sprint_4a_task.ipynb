{
 "cells": [
  {
   "cell_type": "markdown",
   "metadata": {},
   "source": [
    "# Sprint 4a Solutions"
   ]
  },
  {
   "cell_type": "markdown",
   "metadata": {},
   "source": [
    "### Task 1: İstifadəçidən iki rəqəm və bir əməliyyat (toplama, çıxma, vurma, bölmə) daxil etməsini tələb edən funksiya yazın. Mümkün xətaları (ValueError, TypeError və s.) idarə edin və müvafiq mesajlar çıxarın. Sonda da \"Hesablama bitdi\" mesajı çap olunsun."
   ]
  },
  {
   "cell_type": "code",
   "execution_count": 1,
   "metadata": {},
   "outputs": [
    {
     "name": "stdout",
     "output_type": "stream",
     "text": [
      "Birinci rəqəmi daxil edin: 10\n",
      "İkinci rəqəmi daxil edin: 5\n",
      "Əməliyyatı daxil edin (+, -, *, /): /\n",
      "Nəticə: 2.0\n",
      "Hesablama bitdi\n"
     ]
    }
   ],
   "source": [
    "def hesablama():\n",
    "    try:\n",
    "        num1 = float(input(\"Birinci rəqəmi daxil edin: \"))\n",
    "        num2 = float(input(\"İkinci rəqəmi daxil edin: \"))\n",
    "        operation = input(\"Əməliyyatı daxil edin (+, -, *, /): \")\n",
    "        \n",
    "        if operation == \"+\":\n",
    "            result = num1 + num2\n",
    "        elif operation == \"-\":\n",
    "            result = num1 - num2\n",
    "        elif operation == \"*\":\n",
    "            result = num1 * num2\n",
    "        elif operation == \"/\":\n",
    "            if num2 == 0:\n",
    "                raise ZeroDivisionError(\"Sıfıra bölmə xətası!\")\n",
    "            result = num1 / num2\n",
    "        else:\n",
    "            raise ValueError(\"Yanlış əməliyyat! Yalnız +, -, *, / istifadə edin.\")\n",
    "            \n",
    "        print(f\"Nəticə: {result}\")\n",
    "        \n",
    "    except ValueError as e:\n",
    "        if str(e).startswith(\"Yanlış əməliyyat\"):\n",
    "            print(e)\n",
    "        else:\n",
    "            print(\"Xəta: Düzgün rəqəm daxil edin!\")\n",
    "    except ZeroDivisionError as e:\n",
    "        print(e)\n",
    "    except Exception as e:\n",
    "        print(f\"Gözlənilməz xəta: {e}\")\n",
    "    finally:\n",
    "        print(\"Hesablama bitdi\")\n",
    "        \n",
    "hesablama()"
   ]
  },
  {
   "cell_type": "markdown",
   "metadata": {},
   "source": [
    "### Task 2: 1-dən 50-yə qədər olan rəqəmlərdən yalnız 11ə qalıqsız bölünənlərini list olaraq qaytarın."
   ]
  },
  {
   "cell_type": "code",
   "execution_count": 2,
   "metadata": {},
   "outputs": [
    {
     "name": "stdout",
     "output_type": "stream",
     "text": [
      "11-ə qalıqsız bölünən rəqəmlər: [11, 22, 33, 44]\n"
     ]
    }
   ],
   "source": [
    "def on_bire_bolunenler():\n",
    "    return [num for num in range(1, 51) if num % 11 == 0]\n",
    "\n",
    "netice = on_bire_bolunenler()\n",
    "print(f\"11-ə qalıqsız bölünən rəqəmlər: {netice}\")"
   ]
  },
  {
   "cell_type": "markdown",
   "metadata": {},
   "source": [
    "### Task 3: Verilmiş sözlər siyahısından ([\"kitab\", \"qələm\", \"defter\", \"silgi\"]) hər sözün ilk hərfini list olaraq qaytarın."
   ]
  },
  {
   "cell_type": "code",
   "execution_count": 3,
   "metadata": {},
   "outputs": [
    {
     "name": "stdout",
     "output_type": "stream",
     "text": [
      "İlk hərflər: ['k', 'q', 'd', 's']\n"
     ]
    }
   ],
   "source": [
    "def ilk_herfler(sozler):\n",
    "    return [soz[0] for soz in sozler]\n",
    "\n",
    "sozler = [\"kitab\", \"qələm\", \"defter\", \"silgi\"]\n",
    "netice = ilk_herfler(sozler)\n",
    "print(f\"İlk hərflər: {netice}\")"
   ]
  },
  {
   "cell_type": "markdown",
   "metadata": {},
   "source": [
    "### Task 4: Şəhər adları ([\"Bakı\", \"Gəncə\", \"Sumqayıt\"]) və kodları ([12, 22, 18]) siyahılarından {şəhər: kod} dictionary olaraq qaytarın."
   ]
  },
  {
   "cell_type": "code",
   "execution_count": 4,
   "metadata": {},
   "outputs": [
    {
     "name": "stdout",
     "output_type": "stream",
     "text": [
      "Şəhər kodları: {'Bakı': 12, 'Gəncə': 22, 'Sumqayıt': 18}\n"
     ]
    }
   ],
   "source": [
    "def seher_kodlari(seherler, kodlar):\n",
    "    return dict(zip(seherler, kodlar))\n",
    "\n",
    "seherler = [\"Bakı\", \"Gəncə\", \"Sumqayıt\"]\n",
    "kodlar = [12, 22, 18]\n",
    "netice = seher_kodlari(seherler, kodlar)\n",
    "print(f\"Şəhər kodları: {netice}\")"
   ]
  },
  {
   "cell_type": "markdown",
   "metadata": {},
   "source": [
    "### Task 5: Kilometri milə çevirən (mil = km * 0.621371) lambda funksiyası yazın və 5 fərqli dəyər üçün yoxlayın."
   ]
  },
  {
   "cell_type": "code",
   "execution_count": 5,
   "metadata": {},
   "outputs": [
    {
     "name": "stdout",
     "output_type": "stream",
     "text": [
      "1 km = 0.621371 mil\n",
      "5 km = 3.106855 mil\n",
      "10 km = 6.21371 mil\n",
      "42 km = 26.097582 mil\n",
      "100 km = 62.1371 mil\n"
     ]
    }
   ],
   "source": [
    "km_to_mil = lambda km: km * 0.621371\n",
    "\n",
    "for km in [1, 5, 10, 42, 100]:\n",
    "    print(f\"{km} km = {km_to_mil(km)} mil\")"
   ]
  },
  {
   "cell_type": "markdown",
   "metadata": {},
   "source": [
    "### Task 6: [100, 200, 300, 400] qiymətlərinə 18% vergi əlavə etmək üçün map() və lambda istifadə edin."
   ]
  },
  {
   "cell_type": "code",
   "execution_count": 6,
   "metadata": {},
   "outputs": [
    {
     "name": "stdout",
     "output_type": "stream",
     "text": [
      "Vergi əlavə edilmiş qiymətlər: [118.0, 236.0, 354.0, 472.0]\n"
     ]
    }
   ],
   "source": [
    "qiymetler = [100, 200, 300, 400]\n",
    "vergi_elave_et = lambda qiymet: qiymet * 1.18\n",
    "\n",
    "netice = list(map(vergi_elave_et, qiymetler))\n",
    "print(f\"Vergi əlavə edilmiş qiymətlər: {netice}\")"
   ]
  },
  {
   "cell_type": "markdown",
   "metadata": {},
   "source": [
    "### Task 7: [3, 7, 12] və [2, 4, 6] siyahılarının elementlərini ikiqat artırmaq və sonra cəmləmək üçün map() istifadə edin."
   ]
  },
  {
   "cell_type": "code",
   "execution_count": 7,
   "metadata": {},
   "outputs": [
    {
     "name": "stdout",
     "output_type": "stream",
     "text": [
      "Nəticə: [10, 18, 30]\n"
     ]
    }
   ],
   "source": [
    "list1 = [3, 7, 12]\n",
    "list2 = [2, 4, 6]\n",
    "\n",
    "netice = list(map(lambda x, y: (x * 2) + (y * 2), list1, list2))\n",
    "print(f\"Nəticə: {netice}\")"
   ]
  },
  {
   "cell_type": "markdown",
   "metadata": {},
   "source": [
    "### Task 8: [150, 80, 220, 45] siyahısından ən kiçik qiyməti reduce() ilə tapın."
   ]
  },
  {
   "cell_type": "code",
   "execution_count": 8,
   "metadata": {},
   "outputs": [
    {
     "name": "stdout",
     "output_type": "stream",
     "text": [
      "Ən kiçik qiymət: 45\n"
     ]
    }
   ],
   "source": [
    "from functools import reduce\n",
    "\n",
    "qiymetler = [150, 80, 220, 45]\n",
    "en_kicik = reduce(lambda x, y: x if x < y else y, qiymetler)\n",
    "print(f\"Ən kiçik qiymət: {en_kicik}\")"
   ]
  }
 ],
 "metadata": {
  "kernelspec": {
   "display_name": "Python 3",
   "language": "python",
   "name": "python3"
  },
  "language_info": {
   "codemirror_mode": {
    "name": "ipython",
    "version": 3
   },
   "file_extension": ".py",
   "mimetype": "text/x-python",
   "name": "python",
   "nbconvert_exporter": "python",
   "pygments_lexer": "ipython3",
   "version": "3.9.6"
  }
 },
 "nbformat": 4,
 "nbformat_minor": 4
}