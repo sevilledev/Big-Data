{
 "cells": [
  {
   "cell_type": "markdown",
   "metadata": {},
   "source": [
    "# Sprint 3b Solutions"
   ]
  },
  {
   "cell_type": "markdown",
   "metadata": {},
   "source": [
    "### Task 1: salam adlı funksiya yaradın ki, heç bir arqument almadan sadəcə \"Salam, Dünya!\" çap etsin."
   ]
  },
  {
   "cell_type": "code",
   "execution_count": 1,
   "metadata": {},
   "outputs": [
    {
     "name": "stdout",
     "output_type": "stream",
     "text": [
      "Salam, Dünya!\n"
     ]
    }
   ],
   "source": [
    "def salam():\n",
    "    print(\"Salam, Dünya!\")\n",
    "    \n",
    "salam()"
   ]
  },
  {
   "cell_type": "markdown",
   "metadata": {},
   "source": [
    "### Task 2: kub_hesabla adlı funksiya yaradın ki, bir rəqəm (n) qəbul etsin və onun kubunu qaytarsın."
   ]
  },
  {
   "cell_type": "code",
   "execution_count": 2,
   "metadata": {},
   "outputs": [
    {
     "name": "stdout",
     "output_type": "stream",
     "text": [
      "3-ün kubu: 27\n"
     ]
    }
   ],
   "source": [
    "def kub_hesabla(n):\n",
    "    return n ** 3\n",
    "\n",
    "netice = kub_hesabla(3)\n",
    "print(f\"3-ün kubu: {netice}\")"
   ]
  },
  {
   "cell_type": "markdown",
   "metadata": {},
   "source": [
    "### Task 3: birlesdir adlı funksiya yaradın ki, iki söz qəbul etsin və onları boşluqla birləşdirib qaytarsın."
   ]
  },
  {
   "cell_type": "code",
   "execution_count": 3,
   "metadata": {},
   "outputs": [
    {
     "name": "stdout",
     "output_type": "stream",
     "text": [
      "Salam Dünya\n"
     ]
    }
   ],
   "source": [
    "def birlesdir(soz1, soz2):\n",
    "    return soz1 + \" \" + soz2\n",
    "\n",
    "netice = birlesdir(\"Salam\", \"Dünya\")\n",
    "print(netice)"
   ]
  },
  {
   "cell_type": "markdown",
   "metadata": {},
   "source": [
    "### Task 4: cap_et adlı funksiya yaradın ki, bir listi arqument olaraq alsın və listin hər elementini for ilə çap etsin."
   ]
  },
  {
   "cell_type": "code",
   "execution_count": 4,
   "metadata": {},
   "outputs": [
    {
     "name": "stdout",
     "output_type": "stream",
     "text": [
      "alma\n",
      "armud\n",
      "heyva\n"
     ]
    }
   ],
   "source": [
    "def cap_et(my_list):\n",
    "    for element in my_list:\n",
    "        print(element)\n",
    "        \n",
    "meyveler = [\"alma\", \"armud\", \"heyva\"]\n",
    "cap_et(meyveler)"
   ]
  },
  {
   "cell_type": "markdown",
   "metadata": {},
   "source": [
    "### Task 5: toplam adlı funksiya yaradın ki, istənilən sayda rəqəmi (*args) qəbul edib onların cəmini qaytarsın."
   ]
  },
  {
   "cell_type": "code",
   "execution_count": 5,
   "metadata": {},
   "outputs": [
    {
     "name": "stdout",
     "output_type": "stream",
     "text": [
      "Cəm: 15\n"
     ]
    }
   ],
   "source": [
    "def toplam(*args):\n",
    "    return sum(args)\n",
    "\n",
    "netice = toplam(1, 2, 3, 4, 5)\n",
    "print(f\"Cəm: {netice}\")"
   ]
  },
  {
   "cell_type": "markdown",
   "metadata": {},
   "source": [
    "### Task 6: ortalama adlı funksiya yaradın ki, istənilən sayda rəqəmi (*args) qəbul edib onların ortalamasını qaytarsın (əgər heç bir rəqəm yoxdursa, \"Rəqəm yoxdur\" qaytarsın)."
   ]
  },
  {
   "cell_type": "code",
   "execution_count": 6,
   "metadata": {},
   "outputs": [
    {
     "name": "stdout",
     "output_type": "stream",
     "text": [
      "Ortalama: 3.0\n",
      "Rəqəm yoxdur\n"
     ]
    }
   ],
   "source": [
    "def ortalama(*args):\n",
    "    if len(args) == 0:\n",
    "        return \"Rəqəm yoxdur\"\n",
    "    return sum(args) / len(args)\n",
    "\n",
    "netice1 = ortalama(1, 2, 3, 4, 5)\n",
    "print(f\"Ortalama: {netice1}\")\n",
    "\n",
    "netice2 = ortalama()\n",
    "print(netice2)"
   ]
  },
  {
   "cell_type": "markdown",
   "metadata": {},
   "source": [
    "### Task 7: adlar_rəqəmlər adlı funksiya yaradın ki, istənilən sayda ad və rəqəm cütünü (**kwargs) qəbul edib hər cütü çap etsin (məsələn, \"ad: bir, rəqəm: 1\")."
   ]
  },
  {
   "cell_type": "code",
   "execution_count": 7,
   "metadata": {},
   "outputs": [
    {
     "name": "stdout",
     "output_type": "stream",
     "text": [
      "ad: Əli, rəqəm: 25\n",
      "ad: Vəli, rəqəm: 30\n"
     ]
    }
   ],
   "source": [
    "def adlar_reqemler(**kwargs):\n",
    "    for ad, reqem in kwargs.items():\n",
    "        print(f\"ad: {ad}, rəqəm: {reqem}\")\n",
    "        \n",
    "adlar_reqemler(Əli=25, Vəli=30)"
   ]
  },
  {
   "cell_type": "markdown",
   "metadata": {},
   "source": [
    "### Task 8: tip_yoxla adlı funksiya yaradın ki, bir dəyər qəbul edib onun tipini yoxlasın: \"mətn\", \"rəqəm\", \"başqa\" çap etsin."
   ]
  },
  {
   "cell_type": "code",
   "execution_count": 8,
   "metadata": {},
   "outputs": [
    {
     "name": "stdout",
     "output_type": "stream",
     "text": [
      "mətn\n",
      "rəqəm\n",
      "başqa\n"
     ]
    }
   ],
   "source": [
    "def tip_yoxla(deyer):\n",
    "    if isinstance(deyer, str):\n",
    "        print(\"mətn\")\n",
    "    elif isinstance(deyer, (int, float)):\n",
    "        print(\"rəqəm\")\n",
    "    else:\n",
    "        print(\"başqa\")\n",
    "        \n",
    "tip_yoxla(\"Salam\")\n",
    "tip_yoxla(42)\n",
    "tip_yoxla([1, 2, 3])"
   ]
  },
  {
   "cell_type": "markdown",
   "metadata": {},
   "source": [
    "### Task 9: yas_kateqoriya adlı funksiya yaradın ki, input()/readline() ilə yaş soruşsun, 18-dən aşağıysa \"Gənc\", yuxarıdrsa \"Yetkin\" çap etsin."
   ]
  },
  {
   "cell_type": "code",
   "execution_count": 9,
   "metadata": {},
   "outputs": [
    {
     "name": "stdout",
     "output_type": "stream",
     "text": [
      "Yaşınızı daxil edin: 25\n",
      "Yetkin\n"
     ]
    }
   ],
   "source": [
    "def yas_kateqoriya():\n",
    "    yas = int(input(\"Yaşınızı daxil edin: \"))\n",
    "    if yas < 18:\n",
    "        print(\"Gənc\")\n",
    "    else:\n",
    "        print(\"Yetkin\")\n",
    "        \n",
    "yas_kateqoriya()"
   ]
  },
  {
   "cell_type": "markdown",
   "metadata": {},
   "source": [
    "### Task 10: soz_uzunluq adlı funksiya yaradın ki, input()/readline() ilə istifadəçidən söz alsın və onun uzunluğunu çap etsin."
   ]
  },
  {
   "cell_type": "code",
   "execution_count": 10,
   "metadata": {},
   "outputs": [
    {
     "name": "stdout",
     "output_type": "stream",
     "text": [
      "Bir söz daxil edin: Python\n",
      "Sözün uzunluğu: 6\n"
     ]
    }
   ],
   "source": [
    "def soz_uzunluq():\n",
    "    soz = input(\"Bir söz daxil edin: \")\n",
    "    print(f\"Sözün uzunluğu: {len(soz)}\")\n",
    "    \n",
    "soz_uzunluq()"
   ]
  }
 ],
 "metadata": {
  "kernelspec": {
   "display_name": "Python 3",
   "language": "python",
   "name": "python3"
  },
  "language_info": {
   "codemirror_mode": {
    "name": "ipython",
    "version": 3
   },
   "file_extension": ".py",
   "mimetype": "text/x-python",
   "name": "python",
   "nbconvert_exporter": "python",
   "pygments_lexer": "ipython3",
   "version": "3.9.6"
  }
 },
 "nbformat": 4,
 "nbformat_minor": 4
}