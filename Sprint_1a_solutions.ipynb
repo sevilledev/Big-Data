{
 "cells": [
  {
   "cell_type": "markdown",
   "metadata": {},
   "source": [
    "# Sprint 1a Solutions"
   ]
  },
  {
   "cell_type": "markdown",
   "metadata": {},
   "source": [
    "### Task 1: Convert 123 to string/character and check its type"
   ]
  },
  {
   "cell_type": "code",
   "execution_count": 4,
   "metadata": {},
   "outputs": [
    {
     "name": "stdout",
     "output_type": "stream",
     "text": [
      "<class 'str'>\n"
     ]
    }
   ],
   "source": [
    "num = 123\n",
    "str_num = str(num)\n",
    "print(type(str_num))"
   ]
  },
  {
   "cell_type": "markdown",
   "metadata": {},
   "source": [
    "### Task 2: Convert 19.99 to integer and print the result"
   ]
  },
  {
   "cell_type": "code",
   "execution_count": 2,
   "metadata": {},
   "outputs": [
    {
     "name": "stdout",
     "output_type": "stream",
     "text": [
      "19\n"
     ]
    }
   ],
   "source": [
    "num = 19.99\n",
    "int_num = int(num)\n",
    "print(int_num)"
   ]
  },
  {
   "cell_type": "markdown",
   "metadata": {},
   "source": [
    "### Task 3: Convert \"500\" to numeric, divide by 2, and print the result"
   ]
  },
  {
   "cell_type": "code",
   "execution_count": 3,
   "metadata": {},
   "outputs": [
    {
     "name": "stdout",
     "output_type": "stream",
     "text": [
      "250.0\n"
     ]
    }
   ],
   "source": [
    "str_num = \"500\"\n",
    "num = int(str_num)\n",
    "res = num / 2\n",
    "print(res)"
   ]
  },
  {
   "cell_type": "markdown",
   "metadata": {},
   "source": [
    "### Task 4: Create a = 8 and b = 12, check a < b and a == b conditions"
   ]
  },
  {
   "cell_type": "code",
   "execution_count": 8,
   "metadata": {},
   "outputs": [
    {
     "name": "stdout",
     "output_type": "stream",
     "text": [
      "Is b greater than a? : True\n",
      "Is a equal to b? : False\n"
     ]
    }
   ],
   "source": [
    "a = 8\n",
    "b = 12\n",
    "print(f\"Is b greater than a? : {a < b}\")\n",
    "print(f\"Is a equal to b? : {a == b}\")"
   ]
  },
  {
   "cell_type": "markdown",
   "metadata": {},
   "source": [
    "### Task 5: Create x = 5, y = 10, z = 15, and check (x < y) and (y < z)"
   ]
  },
  {
   "cell_type": "code",
   "execution_count": 9,
   "metadata": {},
   "outputs": [
    {
     "name": "stdout",
     "output_type": "stream",
     "text": [
      "Is y greater than a and z greater than y? : True\n"
     ]
    }
   ],
   "source": [
    "x = 5\n",
    "y = 10\n",
    "z = 15\n",
    "print(f\"Is y greater than a and z greater than y? : {(x < y) and (y < z)}\")"
   ]
  },
  {
   "cell_type": "markdown",
   "metadata": {},
   "source": [
    "### Task 6: Divide 25 by 4 using different division methods"
   ]
  },
  {
   "cell_type": "code",
   "execution_count": 10,
   "metadata": {},
   "outputs": [
    {
     "name": "stdout",
     "output_type": "stream",
     "text": [
      "Regular division: 6.25\n",
      "Floor division: 6\n",
      "Remainder: 1\n"
     ]
    }
   ],
   "source": [
    "reg_div = 25 / 4\n",
    "print(f\"Regular division: {reg_div}\")\n",
    "\n",
    "flr_div = 25 // 4\n",
    "print(f\"Floor division: {flr_div}\")\n",
    "\n",
    "rmd = 25 % 4\n",
    "print(f\"Remainder: {rmd}\")"
   ]
  },
  {
   "cell_type": "markdown",
   "metadata": {},
   "source": [
    "### Task 7: Raise 3 to the power of 4 and print the result"
   ]
  },
  {
   "cell_type": "code",
   "execution_count": 11,
   "metadata": {},
   "outputs": [
    {
     "name": "stdout",
     "output_type": "stream",
     "text": [
      "81\n"
     ]
    }
   ],
   "source": [
    "res = 3 ** 4\n",
    "print(res)"
   ]
  },
  {
   "cell_type": "markdown",
   "metadata": {},
   "source": [
    "### Task 8: Create qiymet = 75.5, convert to integer and check type"
   ]
  },
  {
   "cell_type": "code",
   "execution_count": 14,
   "metadata": {},
   "outputs": [
    {
     "name": "stdout",
     "output_type": "stream",
     "text": [
      "75\n",
      "<class 'int'>\n"
     ]
    }
   ],
   "source": [
    "num = 75.5\n",
    "int_num = int(num)\n",
    "print(int_num)\n",
    "print(type(int_num))"
   ]
  },
  {
   "cell_type": "markdown",
   "metadata": {},
   "source": [
    "### Task 9: Create n = 20 and check conditions"
   ]
  },
  {
   "cell_type": "code",
   "execution_count": 15,
   "metadata": {},
   "outputs": [
    {
     "name": "stdout",
     "output_type": "stream",
     "text": [
      "(n > 10) or (n < 5): True\n",
      "(n > 15) and (n < 25): True\n"
     ]
    }
   ],
   "source": [
    "n = 20\n",
    "case1 = (n > 10) or (n < 5)\n",
    "case2 = (n > 15) and (n < 25)\n",
    "print(f\"(n > 10) or (n < 5): {case1}\")\n",
    "print(f\"(n > 15) and (n < 25): {case2}\")"
   ]
  },
  {
   "cell_type": "markdown",
   "metadata": {},
   "source": [
    "### Task 10: Convert \"42.8\" to float then integer, check type at each step"
   ]
  },
  {
   "cell_type": "code",
   "execution_count": 16,
   "metadata": {},
   "outputs": [
    {
     "name": "stdout",
     "output_type": "stream",
     "text": [
      "Float value: 42.8\n",
      "Type: <class 'float'>\n",
      "Integer value: 42\n",
      "Type: <class 'int'>\n"
     ]
    }
   ],
   "source": [
    "str_val = \"42.8\"\n",
    "float_val = float(str_val)\n",
    "print(f\"Float value: {float_val}\")\n",
    "print(f\"Type: {type(float_val)}\")\n",
    "\n",
    "int_val = int(float_val)\n",
    "print(f\"Integer value: {int_val}\")\n",
    "print(f\"Type: {type(int_val)}\")"
   ]
  }
 ],
 "metadata": {
  "kernelspec": {
   "display_name": "Python 3",
   "language": "python",
   "name": "python3"
  },
  "language_info": {
   "codemirror_mode": {
    "name": "ipython",
    "version": 3
   },
   "file_extension": ".py",
   "mimetype": "text/x-python",
   "name": "python",
   "nbconvert_exporter": "python",
   "pygments_lexer": "ipython3",
   "version": "3.9.6"
  }
 },
 "nbformat": 4,
 "nbformat_minor": 4
}
